{
 "cells": [
  {
   "cell_type": "code",
   "execution_count": null,
   "id": "362e78ea-34ee-46d2-83a3-0af5877f5f51",
   "metadata": {},
   "outputs": [
    {
     "name": "stdout",
     "output_type": "stream",
     "text": [
      "\n",
      "----- Student Records-----\n",
      "1. Insert Student\n",
      "2. Display All Students\n",
      "3. Update Student Grade\n",
      "4. Delete Student\n",
      "5. Exit\n"
     ]
    },
    {
     "name": "stdin",
     "output_type": "stream",
     "text": [
      "Enter your choice (1-5):  1\n",
      "Enter name:  Jaanu Roy\n"
     ]
    }
   ],
   "source": [
    "import mysql.connector      #imports MySQL connector module\n",
    "# DATABASE CONNECTION FUNCTION\n",
    "def get_connection():\n",
    "    return mysql.connector.connect(\n",
    "        host=\"localhost\",\n",
    "        user=\"root\",\n",
    "        password=\"2002\",\n",
    "        database=\"school\")\n",
    "# INSERT STUDENTS\n",
    "def insert_student(name, age, grade):\n",
    "    conn = get_connection()\n",
    "    cursor = conn.cursor()\n",
    "    cursor.execute(\"INSERT INTO students (name, age, grade) VALUES (%s, %s, %s)\", (name, age, grade))\n",
    "    conn.commit()\n",
    "    print(\"Student inserted successfully.\")\n",
    "    conn.close()\n",
    "# DISPLAY ALL STUDENTS\n",
    "def display_students():\n",
    "    conn = get_connection()\n",
    "    cursor = conn.cursor()\n",
    "    cursor.execute(\"SELECT * FROM students\")\n",
    "    results = cursor.fetchall()\n",
    "    print(\"ID\\tName\\tAge\\tGrade\")\n",
    "    for row in results:\n",
    "        print(row)\n",
    "    conn.close()\n",
    "# UPDATE STUDENT GRADE\n",
    "def update_grade(student_id, new_grade):\n",
    "    conn = get_connection()\n",
    "    cursor = conn.cursor()\n",
    "    cursor.execute(\"UPDATE students SET grade = %s WHERE id = %s\", (new_grade, student_id))\n",
    "    conn.commit()\n",
    "    print(\"Grade updated successfully.\")\n",
    "    conn.close()\n",
    "# DELETE STUDENT\n",
    "def delete_student(student_id):\n",
    "    conn = get_connection()\n",
    "    cursor = conn.cursor()\n",
    "    cursor.execute(\"DELETE FROM students WHERE id = %s\", (student_id,))\n",
    "    conn.commit()\n",
    "    print(\"Student deleted successfully.\")\n",
    "    conn.close()\n",
    "#MAIN MENU FUNCTION\n",
    "def main():\n",
    "    while True:\n",
    "        print(\"\\n----- Student Records-----\")\n",
    "        print(\"1. Insert Student\\n2. Display All Students\\n3. Update Student Grade\\n4. Delete Student\\n5. Exit\")\n",
    "        choice = input(\"Enter your choice (1-5): \")\n",
    "        \n",
    "        if choice == '1':\n",
    "            name = input(\"Enter name: \")\n",
    "            age = int(input(\"Enter age: \"))\n",
    "            grade = input(\"Enter grade: \")\n",
    "            insert_student(name, age, grade)\n",
    "        elif choice == '2':\n",
    "            display_students()\n",
    "        elif choice == '3':\n",
    "            student_id = int(input(\"Enter student ID: \"))\n",
    "            new_grade = input(\"Enter new grade: \")\n",
    "            update_grade(student_id, new_grade)\n",
    "        elif choice == '4':\n",
    "            student_id = int(input(\"Enter student ID to delete: \"))\n",
    "            delete_student(student_id)\n",
    "        elif choice == '5':\n",
    "            print(\"Exiting...\")\n",
    "            break\n",
    "        else:\n",
    "            print(\"Invalid choice. Please try again.\")\n",
    "main()"
   ]
  },
  {
   "cell_type": "code",
   "execution_count": null,
   "id": "a7c76496-1080-4fff-a26b-5af6b1beaf07",
   "metadata": {},
   "outputs": [],
   "source": []
  }
 ],
 "metadata": {
  "kernelspec": {
   "display_name": "Python [conda env:base] *",
   "language": "python",
   "name": "conda-base-py"
  },
  "language_info": {
   "codemirror_mode": {
    "name": "ipython",
    "version": 3
   },
   "file_extension": ".py",
   "mimetype": "text/x-python",
   "name": "python",
   "nbconvert_exporter": "python",
   "pygments_lexer": "ipython3",
   "version": "3.12.7"
  }
 },
 "nbformat": 4,
 "nbformat_minor": 5
}
